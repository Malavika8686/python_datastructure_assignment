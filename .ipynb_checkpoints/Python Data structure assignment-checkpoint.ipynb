{
 "cells": [
  {
   "cell_type": "code",
   "execution_count": 4,
   "id": "b270736f-6614-4593-b33e-7c9fdc4fe761",
   "metadata": {},
   "outputs": [
    {
     "data": {
      "text/plain": [
       "'Malavika'"
      ]
     },
     "execution_count": 4,
     "metadata": {},
     "output_type": "execute_result"
    }
   ],
   "source": [
    "#1.Discuss string slicing and provide examples?\n",
    "\n",
    "#Ans String slicing is the process of obtaining a substring from a given string by slicing it \n",
    "#respectively from start to end. \n",
    "\n",
    "# this is done using list_name[start index:end index:step] method,here elements are considered from start index to end index-1\n",
    "\n",
    "#for example consider the following list\n",
    "\n",
    "my_string=\"Malavika\"\n",
    "\n",
    "my_string\n",
    "\n"
   ]
  },
  {
   "cell_type": "code",
   "execution_count": 5,
   "id": "56ebaff7-5e4f-4b5f-89b4-17748576243b",
   "metadata": {},
   "outputs": [
    {
     "data": {
      "text/plain": [
       "'Malavika'"
      ]
     },
     "execution_count": 5,
     "metadata": {},
     "output_type": "execute_result"
    }
   ],
   "source": [
    "my_string[::]#prints the entire string"
   ]
  },
  {
   "cell_type": "code",
   "execution_count": 6,
   "id": "68494c00-02d1-4014-8287-5e4a0978d7ff",
   "metadata": {},
   "outputs": [
    {
     "data": {
      "text/plain": [
       "'Malav'"
      ]
     },
     "execution_count": 6,
     "metadata": {},
     "output_type": "execute_result"
    }
   ],
   "source": [
    "my_string[:5]#prints the first 4 characters of the string"
   ]
  },
  {
   "cell_type": "code",
   "execution_count": 7,
   "id": "891b846c-5815-49f6-8872-28ea362f05cb",
   "metadata": {},
   "outputs": [
    {
     "data": {
      "text/plain": [
       "'akivalaM'"
      ]
     },
     "execution_count": 7,
     "metadata": {},
     "output_type": "execute_result"
    }
   ],
   "source": [
    "my_string[::-1]#prints the string in reverse order"
   ]
  },
  {
   "cell_type": "code",
   "execution_count": 10,
   "id": "f66b1078-35e8-4f69-888a-ff987d1be65a",
   "metadata": {},
   "outputs": [
    {
     "data": {
      "text/plain": [
       "'lavik'"
      ]
     },
     "execution_count": 10,
     "metadata": {},
     "output_type": "execute_result"
    }
   ],
   "source": [
    "my_string[2:7]#prints characters from index 2 to index 6"
   ]
  },
  {
   "cell_type": "code",
   "execution_count": 12,
   "id": "b0abb353-7f28-46c1-b71f-b55b3542a08b",
   "metadata": {},
   "outputs": [
    {
     "data": {
      "text/plain": [
       "['Malavika', 1, 2, 3.5, True, (6+7j), 'hello', 2, 1, 2]"
      ]
     },
     "execution_count": 12,
     "metadata": {},
     "output_type": "execute_result"
    }
   ],
   "source": [
    "#2.Explain the key features of lists in Python?\n",
    "\n",
    "#Ans A python list is a datastructure which is used for the collection of heterogeneous data.\n",
    "#Key features of python are:\n",
    "#1.It is an ordered collection of heterogeneous data.\n",
    "#2.It is a mutable datastructure that means given list can be modified after the creation of the list.\n",
    "#3.Slicing can be performed in the lists.\n",
    "#4.Lists are dynamic.\n",
    "\n",
    "#Different kinds of data can be stored in lists\n",
    "\n",
    "#creation of the list\n",
    "my_list=[\"abcde\",1,2,3.5,True,6+7j,\"hello\"]\n",
    "my_list\n",
    "\n"
   ]
  },
  {
   "cell_type": "code",
   "execution_count": 20,
   "id": "6b185360-4e53-4859-b27a-f7af41af5d7a",
   "metadata": {},
   "outputs": [
    {
     "name": "stdout",
     "output_type": "stream",
     "text": [
      "Malavika\n"
     ]
    },
    {
     "data": {
      "text/plain": [
       "['Malavika',\n",
       " 'Malavika',\n",
       " 'xyz',\n",
       " 3.5,\n",
       " True,\n",
       " (6+7j),\n",
       " 'hello',\n",
       " 2,\n",
       " 1,\n",
       " 2,\n",
       " 2,\n",
       " 1,\n",
       " 2,\n",
       " 2]"
      ]
     },
     "execution_count": 20,
     "metadata": {},
     "output_type": "execute_result"
    }
   ],
   "source": [
    "#3 Describe how to access modify and delete elements in a list with examples\n",
    "\n",
    "#Accessing the list\n",
    "print(my_list[1])\n",
    "\n",
    "#modifying the list elements\n",
    "my_list[2]=\"xyz\"\n",
    "\n",
    "#Adding elements in the list\n",
    "\n",
    "my_list.append(2)#insertion at end\n",
    "my_list\n",
    "\n"
   ]
  },
  {
   "cell_type": "code",
   "execution_count": 21,
   "id": "73367f99-23b1-4eab-a011-6c238364e8c6",
   "metadata": {},
   "outputs": [
    {
     "data": {
      "text/plain": [
       "['Malavika',\n",
       " 'Malavika',\n",
       " 'Malavika',\n",
       " 'xyz',\n",
       " 3.5,\n",
       " True,\n",
       " (6+7j),\n",
       " 'hello',\n",
       " 2,\n",
       " 1,\n",
       " 2,\n",
       " 2,\n",
       " 1,\n",
       " 2,\n",
       " 2]"
      ]
     },
     "execution_count": 21,
     "metadata": {},
     "output_type": "execute_result"
    }
   ],
   "source": [
    "my_list.insert(1,\"Malavika\")#inserting at a specific position\n",
    "my_list"
   ]
  },
  {
   "cell_type": "code",
   "execution_count": 22,
   "id": "1859c331-5a1c-45da-8fb0-62a2969339a4",
   "metadata": {},
   "outputs": [
    {
     "data": {
      "text/plain": [
       "['Malavika',\n",
       " 'Malavika',\n",
       " 'Malavika',\n",
       " 'xyz',\n",
       " 3.5,\n",
       " True,\n",
       " (6+7j),\n",
       " 'hello',\n",
       " 2,\n",
       " 1,\n",
       " 2,\n",
       " 2,\n",
       " 1,\n",
       " 2,\n",
       " 2,\n",
       " 1,\n",
       " 2,\n",
       " 3]"
      ]
     },
     "execution_count": 22,
     "metadata": {},
     "output_type": "execute_result"
    }
   ],
   "source": [
    "my_list1=[1,2,3]\n",
    "my_list.extend(my_list1)#appending a list to the end of the list that list is extended\n",
    "my_list"
   ]
  },
  {
   "cell_type": "code",
   "execution_count": 23,
   "id": "c6bd02fa-e1a3-4b2a-ba29-8b4fb2a7619a",
   "metadata": {},
   "outputs": [
    {
     "data": {
      "text/plain": [
       "['Malavika',\n",
       " 'Malavika',\n",
       " 'Malavika',\n",
       " 'xyz',\n",
       " 3.5,\n",
       " True,\n",
       " (6+7j),\n",
       " 'hello',\n",
       " 1,\n",
       " 2,\n",
       " 2,\n",
       " 1,\n",
       " 2,\n",
       " 2,\n",
       " 1,\n",
       " 2,\n",
       " 3]"
      ]
     },
     "execution_count": 23,
     "metadata": {},
     "output_type": "execute_result"
    }
   ],
   "source": [
    "#deleting elements in the list\n",
    "my_list.remove(2)#removing an element\n",
    "my_list"
   ]
  },
  {
   "cell_type": "code",
   "execution_count": 24,
   "id": "04dc9671-e464-443c-9bd9-317d9496de1a",
   "metadata": {},
   "outputs": [
    {
     "data": {
      "text/plain": [
       "['Malavika',\n",
       " 'Malavika',\n",
       " 'Malavika',\n",
       " 'xyz',\n",
       " 3.5,\n",
       " True,\n",
       " (6+7j),\n",
       " 'hello',\n",
       " 1,\n",
       " 2,\n",
       " 2,\n",
       " 1,\n",
       " 2,\n",
       " 2,\n",
       " 1,\n",
       " 2]"
      ]
     },
     "execution_count": 24,
     "metadata": {},
     "output_type": "execute_result"
    }
   ],
   "source": [
    "my_list.pop()#removig last element\n",
    "my_list"
   ]
  },
  {
   "cell_type": "code",
   "execution_count": 26,
   "id": "12066975-f572-43c4-ab94-4687556e8d21",
   "metadata": {},
   "outputs": [
    {
     "data": {
      "text/plain": [
       "[2, 3.5, 7, 8, 9]"
      ]
     },
     "execution_count": 26,
     "metadata": {},
     "output_type": "execute_result"
    }
   ],
   "source": [
    "#4.Compare and contrast tuples and lists with examples\n",
    "\n",
    "#1.Lists\n",
    "#features of list\n",
    "#it can store heterogeneous data\n",
    "#it is mutable\n",
    "#it is enclosed in '[]'\n",
    "#the length of the list can be changed as it is mutable datastructure\n",
    "#Elements order is preserved.\n",
    "#It is used to store information that needs to be modified or changed over time.Example: Employee Record\n",
    "#Elements can be added, removed, or modified.\n",
    "\n",
    "#Creation of the list\n",
    "list1=[1,3.5,7,8,9]\n",
    "list1[0]=2#allowed\n",
    "list1\n",
    "\n",
    "\n"
   ]
  },
  {
   "cell_type": "code",
   "execution_count": 28,
   "id": "aac42372-a2ad-440f-8ddb-ae5286d1c86b",
   "metadata": {},
   "outputs": [],
   "source": [
    "#2.Tuples\n",
    "#it can store heterogeneous data\n",
    "#Immutable\n",
    "#it is immutable\n",
    "#it is enclosed in '()'\n",
    "#the length of the list cannot be changed as it is immutable datastructure\n",
    "#Elements order is preserved.\n",
    "#It is used to store information that doesn’t need to alter over time.Example: Coordinates of a point in a map\n",
    "#Elements cannot be added, removed, or modified.\n",
    "\n",
    "my_tuple=(1,2,3)\n",
    "#my_tuple[0]=3 not allowed\n"
   ]
  },
  {
   "cell_type": "code",
   "execution_count": 30,
   "id": "479c79d3-d84b-4037-a62c-8dab7afbe303",
   "metadata": {},
   "outputs": [
    {
     "name": "stdout",
     "output_type": "stream",
     "text": [
      "{'d', 'b', 'a', 'c'}\n",
      "{'d', 'a', 'c'}\n",
      "{1, 2, 3, 4}\n",
      "{2, 3}\n",
      "True\n",
      "False\n",
      "red\n",
      "green\n",
      "blue\n",
      "frozenset({1, 2, 3})\n"
     ]
    }
   ],
   "source": [
    "#5.Describe the key features of sets and provide examples of their use\n",
    "\n",
    "#A python set is a unordered and unique collection of data\n",
    "#It does not allow duplicate elements\n",
    "#Since it is unordered it cannot be indexed like in the case of lists in python.\n",
    "# A set is  mutable\n",
    "\n",
    "#Creation of the set\n",
    "\n",
    "my_set=(1,3,4,5,66,7)\n",
    "my_set\n",
    "\n",
    "#Adding and Removing Elements:\n",
    "# Adding elements to a set\n",
    "my_set1 = {'a', 'b', 'c'}\n",
    "my_set1.add('d')\n",
    "print(my_set1)\n",
    "\n",
    "# Removing elements from a set\n",
    "my_set1.remove('b')\n",
    "print(my_set1) \n",
    "\n",
    "\n",
    "#Operations on Sets:\n",
    "# Union of sets\n",
    "set1 = {1, 2, 3}\n",
    "set2 = {2, 3, 4}\n",
    "union_set = set1 | set2  \n",
    "print(union_set)  \n",
    "\n",
    "# Intersection of sets\n",
    "intersection_set = set1 & set2 \n",
    "print(intersection_set) \n",
    "\n",
    "# Checking membership\n",
    "print(2 in set1)  \n",
    "print(5 in set1)  \n",
    "\n",
    "#Iterating Over a Set:\n",
    "my_set2 = {'red', 'green', 'blue'}\n",
    "for color in my_set2:\n",
    "    print(color)\n",
    "    \n",
    "#Frozensets:\n",
    "#A frozenset is an immutable version of a set and can be used as a dictionary key or as an element of another set.\n",
    "frozen_set = frozenset([1, 2, 3])\n",
    "print(frozen_set)  \n",
    "\n",
    "\n",
    "\n"
   ]
  },
  {
   "cell_type": "code",
   "execution_count": 31,
   "id": "043388da-2d4b-4763-8e12-d571ecc1dc25",
   "metadata": {},
   "outputs": [
    {
     "name": "stdout",
     "output_type": "stream",
     "text": [
      "apple\n",
      "banana\n",
      "cherry\n",
      "Red is in the set\n"
     ]
    }
   ],
   "source": [
    "#6 Discuss the use cases of tuples and sets in Python programming\n",
    "\n",
    "#Use Cases of Tuples:\n",
    "# Example of a tuple\n",
    "#1.for storing data that should not be modified like a person's information\n",
    "person = ('swetha', 25, 'female')\n",
    "\n",
    "#2.for the purpose of iteration\n",
    "for item in ('apple', 'banana', 'cherry'):\n",
    "    print(item)\n",
    "#3.Tuple Unpacking: Tuples can be unpacked into multiple variables, which is convenient for assignments or function arguments.\n",
    "point = (3, 4)\n",
    "x, y = point\n",
    "\n",
    "#4.Dictionary Keys: Tuples can be used as keys in dictionaries because they are hashable (if all their elements are hashable), unlike lists which are mutable and hence not hashable.\n",
    "coordinates = {(1, 2): 'point A', (3, 4): 'point B'}\n",
    "\n",
    "#Use cases of sets\n",
    "#1.for storing data that should be unique\n",
    "unique_colors = {'red', 'green', 'blue'}\n",
    "\n",
    "#2 Membership Testing: Sets are very efficient for membership testing. Checking if an element is in a set is on average O(1) time complexity.\n",
    "if 'red' in unique_colors:\n",
    "    print('Red is in the set')\n",
    "\n",
    "#3 for performing mathematical Operations: Sets support various mathematical operations such as union, intersection, difference, and symmetric difference, which can be useful in tasks like finding common elements or unique elements between collections.\n",
    "set1 = {1, 2, 3}\n",
    "set2 = {2, 3, 4}\n",
    "intersection = set1 & set2  # {2, 3}\n",
    "union = set1 | set2  # {1, 2, 3, 4}\n",
    "difference = set1 - set2  # {1}\n",
    "\n",
    "#4 Removing Duplicates: Sets are handy for removing duplicates from a list or another iterable.\n",
    "list_with_duplicates = [1, 2, 2, 3, 4, 4, 5]\n",
    "unique_numbers = set(list_with_duplicates)  # {1, 2, 3, 4, 5}\n",
    "\n",
    "#5 Set Operations: Sets provide methods and operators for common set operations like adding/removing elements, checking subsets, and updating contents efficiently.\n",
    "unique_colors.add('yellow')\n",
    "unique_colors.remove('green')"
   ]
  },
  {
   "cell_type": "code",
   "execution_count": 32,
   "id": "f7b4e4ec-e9a2-487e-a668-842049b703f1",
   "metadata": {},
   "outputs": [
    {
     "name": "stdout",
     "output_type": "stream",
     "text": [
      "{'name': 'Smit', 'age': 24, 'city': 'New York'}\n",
      "{'name': 'Smit', 'age': 32, 'city': 'New York'}\n",
      "{'name': 'Smit', 'age': 32}\n",
      "{'name': 'Smit'}\n",
      "32\n"
     ]
    }
   ],
   "source": [
    "#7.Describe how to add modify and delete items in a dictionary with examples\n",
    "\n",
    "#A dictionary is a python data structure which is used to store data in the form of key value pairs\n",
    "\n",
    "\n",
    "# Initialize an empty dictionary\n",
    "my_dict = {}\n",
    "\n",
    "#1 Adding key-value pairs to the dictionary\n",
    "my_dict['name'] = 'Smit'\n",
    "my_dict['age'] = 24\n",
    "my_dict['city'] = 'New York'\n",
    "print(my_dict)\n",
    "\n",
    "#2 Modifying Items in a Dictionary:\n",
    "# Modifying the value of an existing key\n",
    "my_dict['age'] = 32\n",
    "print(my_dict)\n",
    "\n",
    "#3 Deleting Items from a Dictionary:\n",
    "# Deleting an item using del keyword\n",
    "del my_dict['city']\n",
    "print(my_dict)\n",
    "\n",
    "# Deleting an item using pop() method\n",
    "removed_age = my_dict.pop('age')\n",
    "print(my_dict)\n",
    "print(removed_age)\n",
    "\n",
    "\n",
    "\n"
   ]
  },
  {
   "cell_type": "code",
   "execution_count": null,
   "id": "7afa742b-3d4f-4c92-b991-a7f8aac48082",
   "metadata": {},
   "outputs": [],
   "source": [
    "#8 Disciss the importance of dictionary keys being immutable and provide examples\n",
    "\n",
    "#Importance of Immutable Dictionary Keys:\n",
    "#Hashability: Dictionary keys must be hashable, meaning they must be immutable and hashable objects themselves. \n",
    "#This ensures that each key can be converted into a unique hash value, which is used internally by Python to quickly retrieve and store values associated with each key. Mutable objects cannot be hashed reliably because their hash value can change over time (if their contents change), leading to potential inconsistencies in dictionary operations.\n",
    "\n",
    "#Key Equality: Immutable keys ensure that keys can be compared for equality reliably.\n",
    "#If a key were mutable and its contents changed, it might not be equal to itself in different states, leading to unexpected behavior when trying to access or modify dictionary entries.\n",
    "\n",
    "#Consistency in Operations: Immutability guarantees that once a key-value pair is added to a dictionary, \n",
    "#the key remains unchanged throughout the lifetime of the dictionary. \n",
    "#This consistency simplifies the implementation and optimization of dictionary operations such as insertion, retrieval, and deletion.\n",
    "\n",
    "# Dictionary with immutable keys (strings)\n",
    "student = {'name': 'Rose','age': 20,'courses': ['Math', 'Physics']}\n",
    "# Adding a new key-value pair\n",
    "student['major'] = 'Computer Science'\n",
    "print(student)\n",
    "\n",
    "\n",
    "# Modifying an existing key's value\n",
    "student['age'] = 21\n",
    "print(student)\n"
   ]
  }
 ],
 "metadata": {
  "kernelspec": {
   "display_name": "Python 3 (ipykernel)",
   "language": "python",
   "name": "python3"
  },
  "language_info": {
   "codemirror_mode": {
    "name": "ipython",
    "version": 3
   },
   "file_extension": ".py",
   "mimetype": "text/x-python",
   "name": "python",
   "nbconvert_exporter": "python",
   "pygments_lexer": "ipython3",
   "version": "3.10.8"
  }
 },
 "nbformat": 4,
 "nbformat_minor": 5
}
